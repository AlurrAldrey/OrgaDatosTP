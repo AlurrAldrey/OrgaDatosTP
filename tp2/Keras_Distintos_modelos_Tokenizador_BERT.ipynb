{
 "cells": [
  {
   "cell_type": "code",
   "execution_count": 1,
   "metadata": {},
   "outputs": [
    {
     "name": "stdout",
     "output_type": "stream",
     "text": [
      "Requirement already satisfied: transformers in /home/nicolas/anaconda3/lib/python3.7/site-packages (3.0.2)\n",
      "Requirement already satisfied: tqdm>=4.27 in /home/nicolas/anaconda3/lib/python3.7/site-packages (from transformers) (4.42.1)\n",
      "Requirement already satisfied: packaging in /home/nicolas/anaconda3/lib/python3.7/site-packages (from transformers) (20.1)\n",
      "Requirement already satisfied: sacremoses in /home/nicolas/anaconda3/lib/python3.7/site-packages (from transformers) (0.0.43)\n",
      "Requirement already satisfied: regex!=2019.12.17 in /home/nicolas/anaconda3/lib/python3.7/site-packages (from transformers) (2020.7.14)\n",
      "Requirement already satisfied: sentencepiece!=0.1.92 in /home/nicolas/anaconda3/lib/python3.7/site-packages (from transformers) (0.1.91)\n",
      "Requirement already satisfied: tokenizers==0.8.1.rc1 in /home/nicolas/anaconda3/lib/python3.7/site-packages (from transformers) (0.8.1rc1)\n",
      "Requirement already satisfied: requests in /home/nicolas/anaconda3/lib/python3.7/site-packages (from transformers) (2.22.0)\n",
      "Requirement already satisfied: filelock in /home/nicolas/anaconda3/lib/python3.7/site-packages (from transformers) (3.0.12)\n",
      "Requirement already satisfied: numpy in /home/nicolas/anaconda3/lib/python3.7/site-packages (from transformers) (1.18.1)\n",
      "Requirement already satisfied: pyparsing>=2.0.2 in /home/nicolas/anaconda3/lib/python3.7/site-packages (from packaging->transformers) (2.4.6)\n",
      "Requirement already satisfied: six in /home/nicolas/anaconda3/lib/python3.7/site-packages (from packaging->transformers) (1.14.0)\n",
      "Requirement already satisfied: click in /home/nicolas/anaconda3/lib/python3.7/site-packages (from sacremoses->transformers) (7.0)\n",
      "Requirement already satisfied: joblib in /home/nicolas/anaconda3/lib/python3.7/site-packages (from sacremoses->transformers) (0.14.1)\n",
      "Requirement already satisfied: chardet<3.1.0,>=3.0.2 in /home/nicolas/anaconda3/lib/python3.7/site-packages (from requests->transformers) (3.0.4)\n",
      "Requirement already satisfied: urllib3!=1.25.0,!=1.25.1,<1.26,>=1.21.1 in /home/nicolas/anaconda3/lib/python3.7/site-packages (from requests->transformers) (1.25.8)\n",
      "Requirement already satisfied: certifi>=2017.4.17 in /home/nicolas/anaconda3/lib/python3.7/site-packages (from requests->transformers) (2019.11.28)\n",
      "Requirement already satisfied: idna<2.9,>=2.5 in /home/nicolas/anaconda3/lib/python3.7/site-packages (from requests->transformers) (2.8)\n"
     ]
    }
   ],
   "source": [
    "!pip install transformers"
   ]
  },
  {
   "cell_type": "code",
   "execution_count": 2,
   "metadata": {},
   "outputs": [],
   "source": [
    "from tensorflow.keras.preprocessing.sequence import pad_sequences\n",
    "from tensorflow.keras.preprocessing.text import Tokenizer\n",
    "from sklearn.model_selection import train_test_split\n",
    "from sklearn.decomposition import PCA\n",
    "#import plotly.express as px\n",
    "import tensorflow as tf\n",
    "import pandas as pd\n",
    "from transformers import BertTokenizer\n",
    "tokenizer = BertTokenizer.from_pretrained('bert-base-uncased')\n"
   ]
  },
  {
   "cell_type": "code",
   "execution_count": 3,
   "metadata": {},
   "outputs": [
    {
     "data": {
      "text/html": [
       "<div>\n",
       "<style scoped>\n",
       "    .dataframe tbody tr th:only-of-type {\n",
       "        vertical-align: middle;\n",
       "    }\n",
       "\n",
       "    .dataframe tbody tr th {\n",
       "        vertical-align: top;\n",
       "    }\n",
       "\n",
       "    .dataframe thead th {\n",
       "        text-align: right;\n",
       "    }\n",
       "</style>\n",
       "<table border=\"1\" class=\"dataframe\">\n",
       "  <thead>\n",
       "    <tr style=\"text-align: right;\">\n",
       "      <th></th>\n",
       "      <th>id</th>\n",
       "      <th>keyword</th>\n",
       "      <th>location</th>\n",
       "      <th>text</th>\n",
       "      <th>target</th>\n",
       "    </tr>\n",
       "  </thead>\n",
       "  <tbody>\n",
       "    <tr>\n",
       "      <th>0</th>\n",
       "      <td>1</td>\n",
       "      <td>NaN</td>\n",
       "      <td>NaN</td>\n",
       "      <td>Our Deeds are the Reason of this #earthquake M...</td>\n",
       "      <td>1</td>\n",
       "    </tr>\n",
       "    <tr>\n",
       "      <th>1</th>\n",
       "      <td>4</td>\n",
       "      <td>NaN</td>\n",
       "      <td>NaN</td>\n",
       "      <td>Forest fire near La Ronge Sask. Canada</td>\n",
       "      <td>1</td>\n",
       "    </tr>\n",
       "    <tr>\n",
       "      <th>2</th>\n",
       "      <td>5</td>\n",
       "      <td>NaN</td>\n",
       "      <td>NaN</td>\n",
       "      <td>All residents asked to 'shelter in place' are ...</td>\n",
       "      <td>1</td>\n",
       "    </tr>\n",
       "    <tr>\n",
       "      <th>3</th>\n",
       "      <td>6</td>\n",
       "      <td>NaN</td>\n",
       "      <td>NaN</td>\n",
       "      <td>13,000 people receive #wildfires evacuation or...</td>\n",
       "      <td>1</td>\n",
       "    </tr>\n",
       "    <tr>\n",
       "      <th>4</th>\n",
       "      <td>7</td>\n",
       "      <td>NaN</td>\n",
       "      <td>NaN</td>\n",
       "      <td>Just got sent this photo from Ruby #Alaska as ...</td>\n",
       "      <td>1</td>\n",
       "    </tr>\n",
       "  </tbody>\n",
       "</table>\n",
       "</div>"
      ],
      "text/plain": [
       "   id keyword location                                               text  \\\n",
       "0   1     NaN      NaN  Our Deeds are the Reason of this #earthquake M...   \n",
       "1   4     NaN      NaN             Forest fire near La Ronge Sask. Canada   \n",
       "2   5     NaN      NaN  All residents asked to 'shelter in place' are ...   \n",
       "3   6     NaN      NaN  13,000 people receive #wildfires evacuation or...   \n",
       "4   7     NaN      NaN  Just got sent this photo from Ruby #Alaska as ...   \n",
       "\n",
       "   target  \n",
       "0       1  \n",
       "1       1  \n",
       "2       1  \n",
       "3       1  \n",
       "4       1  "
      ]
     },
     "execution_count": 3,
     "metadata": {},
     "output_type": "execute_result"
    }
   ],
   "source": [
    "train_df = pd.read_csv('train.csv')\n",
    "train_df.head()"
   ]
  },
  {
   "cell_type": "code",
   "execution_count": 4,
   "metadata": {},
   "outputs": [
    {
     "data": {
      "text/html": [
       "<div>\n",
       "<style scoped>\n",
       "    .dataframe tbody tr th:only-of-type {\n",
       "        vertical-align: middle;\n",
       "    }\n",
       "\n",
       "    .dataframe tbody tr th {\n",
       "        vertical-align: top;\n",
       "    }\n",
       "\n",
       "    .dataframe thead th {\n",
       "        text-align: right;\n",
       "    }\n",
       "</style>\n",
       "<table border=\"1\" class=\"dataframe\">\n",
       "  <thead>\n",
       "    <tr style=\"text-align: right;\">\n",
       "      <th></th>\n",
       "      <th>id</th>\n",
       "      <th>keyword</th>\n",
       "      <th>location</th>\n",
       "      <th>text</th>\n",
       "    </tr>\n",
       "  </thead>\n",
       "  <tbody>\n",
       "    <tr>\n",
       "      <th>0</th>\n",
       "      <td>0</td>\n",
       "      <td>NaN</td>\n",
       "      <td>NaN</td>\n",
       "      <td>Just happened a terrible car crash</td>\n",
       "    </tr>\n",
       "    <tr>\n",
       "      <th>1</th>\n",
       "      <td>2</td>\n",
       "      <td>NaN</td>\n",
       "      <td>NaN</td>\n",
       "      <td>Heard about #earthquake is different cities, s...</td>\n",
       "    </tr>\n",
       "    <tr>\n",
       "      <th>2</th>\n",
       "      <td>3</td>\n",
       "      <td>NaN</td>\n",
       "      <td>NaN</td>\n",
       "      <td>there is a forest fire at spot pond, geese are...</td>\n",
       "    </tr>\n",
       "    <tr>\n",
       "      <th>3</th>\n",
       "      <td>9</td>\n",
       "      <td>NaN</td>\n",
       "      <td>NaN</td>\n",
       "      <td>Apocalypse lighting. #Spokane #wildfires</td>\n",
       "    </tr>\n",
       "    <tr>\n",
       "      <th>4</th>\n",
       "      <td>11</td>\n",
       "      <td>NaN</td>\n",
       "      <td>NaN</td>\n",
       "      <td>Typhoon Soudelor kills 28 in China and Taiwan</td>\n",
       "    </tr>\n",
       "  </tbody>\n",
       "</table>\n",
       "</div>"
      ],
      "text/plain": [
       "   id keyword location                                               text\n",
       "0   0     NaN      NaN                 Just happened a terrible car crash\n",
       "1   2     NaN      NaN  Heard about #earthquake is different cities, s...\n",
       "2   3     NaN      NaN  there is a forest fire at spot pond, geese are...\n",
       "3   9     NaN      NaN           Apocalypse lighting. #Spokane #wildfires\n",
       "4  11     NaN      NaN      Typhoon Soudelor kills 28 in China and Taiwan"
      ]
     },
     "execution_count": 4,
     "metadata": {},
     "output_type": "execute_result"
    }
   ],
   "source": [
    "test_df = pd.read_csv('test.csv')\n",
    "test_df.head()"
   ]
  },
  {
   "cell_type": "code",
   "execution_count": 5,
   "metadata": {},
   "outputs": [],
   "source": [
    "#Procesamiento de datos\n",
    "X_train, X_test, y_train, y_test = train_test_split(train_df['text'], train_df['target'], test_size=0.33,\n",
    "                                                  random_state=42)\n",
    "FTest = test_df['text']\n",
    "test_ids = test_df['id'] "
   ]
  },
  {
   "cell_type": "code",
   "execution_count": 6,
   "metadata": {},
   "outputs": [],
   "source": [
    "#Parametros\n",
    "vocab_size =30522\n",
    "epochs = 10\n",
    "maxlen = 60\n",
    "n_words = 500\n",
    "embedding_dim = 16"
   ]
  },
  {
   "cell_type": "code",
   "execution_count": 7,
   "metadata": {},
   "outputs": [],
   "source": [
    "#Tokenización\n",
    "#tokenizer = Tokenizer(num_words = n_words, oov_token = '<OOV>')\n",
    "\n",
    "#tokenizer.fit_on_texts(X_train)\n",
    "#word_index = tokenizer.word_index\n",
    "\n",
    "#sequences_train = tokenizer.texts_to_sequences(X_train)\n",
    "#sequences_test = tokenizer.texts_to_sequences(X_test)\n",
    "#sequences_FTest = tokenizer.texts_to_sequences(FTest)\n",
    "\n",
    "\n",
    "\n",
    "\n",
    "#padded_train = pad_sequences(sequences_train, maxlen = maxlen, truncating = 'post')\n",
    "#padded_test = pad_sequences(sequences_test, maxlen = maxlen)\n",
    "#padded_FTest = pad_sequences(sequences_FTest, maxlen = maxlen)"
   ]
  },
  {
   "cell_type": "code",
   "execution_count": null,
   "metadata": {},
   "outputs": [],
   "source": []
  },
  {
   "cell_type": "code",
   "execution_count": 8,
   "metadata": {},
   "outputs": [],
   "source": [
    "def tokenizar(textos):\n",
    "    secuencia = []\n",
    "    for text in textos:\n",
    "        marked_text = \"[CLS] \" + text + \" [SEP]\"\n",
    "        tokenized_text = tokenizer.tokenize(marked_text)\n",
    "        indexed_tokens = tokenizer.convert_tokens_to_ids(tokenized_text)\n",
    "        secuencia.append(indexed_tokens)\n",
    "    return secuencia\n"
   ]
  },
  {
   "cell_type": "code",
   "execution_count": null,
   "metadata": {},
   "outputs": [],
   "source": []
  },
  {
   "cell_type": "code",
   "execution_count": 9,
   "metadata": {},
   "outputs": [],
   "source": [
    "secuencia_train = tokenizar(X_train.values)\n",
    "secuencia_test = tokenizar(X_test.values)\n",
    "secuencia_FTest = tokenizar(FTest.values)\n",
    "padded_train = pad_sequences(secuencia_train, maxlen = maxlen, truncating = 'post')\n",
    "padded_test = pad_sequences(secuencia_test, maxlen = maxlen)\n",
    "padded_FTest = pad_sequences(secuencia_FTest, maxlen = maxlen)"
   ]
  },
  {
   "cell_type": "code",
   "execution_count": 25,
   "metadata": {},
   "outputs": [
    {
     "data": {
      "text/plain": [
       "array([   0,    0,    0,    0,    0,    0,    0,    0,    0,    0,    0,\n",
       "          0,    0,    0,    0,    0,    0,    0,    0,    0,    0,    0,\n",
       "          0,    0,    0,    0,    0,    0,    0,    0,    0,    0,    0,\n",
       "          0,    0,    0,    0,    0,    0,    0,    0,    0,    0,    0,\n",
       "          0,    0,    0,    0,    0,    0,    0,    0,  101, 2074, 3047,\n",
       "       1037, 6659, 2482, 5823,  102], dtype=int32)"
      ]
     },
     "execution_count": 25,
     "metadata": {},
     "output_type": "execute_result"
    }
   ],
   "source": [
    "(padded_FTest[0])"
   ]
  },
  {
   "cell_type": "code",
   "execution_count": 39,
   "metadata": {},
   "outputs": [
    {
     "data": {
      "text/plain": [
       "43"
      ]
     },
     "execution_count": 39,
     "metadata": {},
     "output_type": "execute_result"
    }
   ],
   "source": [
    "len(secuencia_FTest[125])"
   ]
  },
  {
   "cell_type": "code",
   "execution_count": 10,
   "metadata": {},
   "outputs": [
    {
     "name": "stdout",
     "output_type": "stream",
     "text": [
      "Model: \"sequential\"\n",
      "_________________________________________________________________\n",
      "Layer (type)                 Output Shape              Param #   \n",
      "=================================================================\n",
      "embedding (Embedding)        (None, None, 64)          1953408   \n",
      "_________________________________________________________________\n",
      "lstm (LSTM)                  (None, 64)                33024     \n",
      "_________________________________________________________________\n",
      "dense (Dense)                (None, 64)                4160      \n",
      "_________________________________________________________________\n",
      "dense_1 (Dense)              (None, 1)                 65        \n",
      "=================================================================\n",
      "Total params: 1,990,657\n",
      "Trainable params: 1,990,657\n",
      "Non-trainable params: 0\n",
      "_________________________________________________________________\n"
     ]
    }
   ],
   "source": [
    "#modelo LSTM\n",
    "model = tf.keras.Sequential([\n",
    "    tf.keras.layers.Embedding(vocab_size, 64),\n",
    "    tf.keras.layers.LSTM(64),\n",
    "    tf.keras.layers.Dense(64, activation='relu'),\n",
    "    tf.keras.layers.Dense(1, activation='sigmoid')\n",
    "])\n",
    "\n",
    "model.compile(loss='binary_crossentropy', optimizer='adam', metrics=['accuracy'])\n",
    "model.summary()"
   ]
  },
  {
   "cell_type": "code",
   "execution_count": 11,
   "metadata": {
    "scrolled": true
   },
   "outputs": [
    {
     "name": "stdout",
     "output_type": "stream",
     "text": [
      "Train on 5100 samples, validate on 2513 samples\n",
      "Epoch 1/10\n",
      "5100/5100 [==============================] - 11s 2ms/sample - loss: 0.6104 - accuracy: 0.6547 - val_loss: 0.4926 - val_accuracy: 0.7692\n",
      "Epoch 2/10\n",
      "5100/5100 [==============================] - 7s 1ms/sample - loss: 0.3650 - accuracy: 0.8469 - val_loss: 0.4828 - val_accuracy: 0.7823\n",
      "Epoch 3/10\n",
      "5100/5100 [==============================] - 8s 2ms/sample - loss: 0.2019 - accuracy: 0.9269 - val_loss: 0.5737 - val_accuracy: 0.7656\n",
      "Epoch 4/10\n",
      "5100/5100 [==============================] - 9s 2ms/sample - loss: 0.1278 - accuracy: 0.9571 - val_loss: 0.6922 - val_accuracy: 0.7585\n",
      "Epoch 5/10\n",
      "5100/5100 [==============================] - 8s 2ms/sample - loss: 0.0826 - accuracy: 0.9724 - val_loss: 0.7785 - val_accuracy: 0.7437\n",
      "Epoch 6/10\n",
      "5100/5100 [==============================] - 7s 1ms/sample - loss: 0.0532 - accuracy: 0.9847 - val_loss: 1.0160 - val_accuracy: 0.7644\n",
      "Epoch 7/10\n",
      "5100/5100 [==============================] - 8s 2ms/sample - loss: 0.0478 - accuracy: 0.9861 - val_loss: 0.9896 - val_accuracy: 0.7445\n",
      "Epoch 8/10\n",
      "5100/5100 [==============================] - 8s 2ms/sample - loss: 0.0299 - accuracy: 0.9902 - val_loss: 1.0351 - val_accuracy: 0.7398\n",
      "Epoch 9/10\n",
      "5100/5100 [==============================] - 9s 2ms/sample - loss: 0.0224 - accuracy: 0.9925 - val_loss: 1.4927 - val_accuracy: 0.7374\n",
      "Epoch 10/10\n",
      "5100/5100 [==============================] - 8s 2ms/sample - loss: 0.0244 - accuracy: 0.9920 - val_loss: 1.5116 - val_accuracy: 0.7469\n"
     ]
    },
    {
     "data": {
      "text/plain": [
       "<tensorflow.python.keras.callbacks.History at 0x7fa0ec133810>"
      ]
     },
     "execution_count": 11,
     "metadata": {},
     "output_type": "execute_result"
    }
   ],
   "source": [
    "#entreno\n",
    "model.fit(padded_train, y_train, epochs=epochs, validation_data = (padded_test,y_test))"
   ]
  },
  {
   "cell_type": "code",
   "execution_count": 12,
   "metadata": {},
   "outputs": [
    {
     "data": {
      "text/html": [
       "<div>\n",
       "<style scoped>\n",
       "    .dataframe tbody tr th:only-of-type {\n",
       "        vertical-align: middle;\n",
       "    }\n",
       "\n",
       "    .dataframe tbody tr th {\n",
       "        vertical-align: top;\n",
       "    }\n",
       "\n",
       "    .dataframe thead th {\n",
       "        text-align: right;\n",
       "    }\n",
       "</style>\n",
       "<table border=\"1\" class=\"dataframe\">\n",
       "  <thead>\n",
       "    <tr style=\"text-align: right;\">\n",
       "      <th></th>\n",
       "      <th>target</th>\n",
       "    </tr>\n",
       "    <tr>\n",
       "      <th>id</th>\n",
       "      <th></th>\n",
       "    </tr>\n",
       "  </thead>\n",
       "  <tbody>\n",
       "    <tr>\n",
       "      <th>0</th>\n",
       "      <td>0</td>\n",
       "    </tr>\n",
       "    <tr>\n",
       "      <th>2</th>\n",
       "      <td>1</td>\n",
       "    </tr>\n",
       "    <tr>\n",
       "      <th>3</th>\n",
       "      <td>1</td>\n",
       "    </tr>\n",
       "    <tr>\n",
       "      <th>9</th>\n",
       "      <td>1</td>\n",
       "    </tr>\n",
       "    <tr>\n",
       "      <th>11</th>\n",
       "      <td>1</td>\n",
       "    </tr>\n",
       "  </tbody>\n",
       "</table>\n",
       "</div>"
      ],
      "text/plain": [
       "    target\n",
       "id        \n",
       "0        0\n",
       "2        1\n",
       "3        1\n",
       "9        1\n",
       "11       1"
      ]
     },
     "execution_count": 12,
     "metadata": {},
     "output_type": "execute_result"
    }
   ],
   "source": [
    "preds = model.predict_classes(padded_FTest)\n",
    "#preds = pd.Series(preds)\n",
    "preds = pd.Series(list((x[0] for x in preds)))\n",
    "preds\n",
    "df_preds = pd.concat([test_ids,preds],axis=1)\n",
    "df_preds.rename(columns = {0 : 'target'}, inplace=True)\n",
    "df_preds.set_index('id', inplace=True)\n",
    "df_preds.to_csv('BERT-LSTM.csv')\n",
    "df_preds.head()"
   ]
  },
  {
   "cell_type": "code",
   "execution_count": 13,
   "metadata": {},
   "outputs": [
    {
     "name": "stdout",
     "output_type": "stream",
     "text": [
      "Model: \"sequential_1\"\n",
      "_________________________________________________________________\n",
      "Layer (type)                 Output Shape              Param #   \n",
      "=================================================================\n",
      "embedding_1 (Embedding)      (None, 60, 64)            1953408   \n",
      "_________________________________________________________________\n",
      "bidirectional (Bidirectional (None, 60, 128)           66048     \n",
      "_________________________________________________________________\n",
      "bidirectional_1 (Bidirection (None, 64)                41216     \n",
      "_________________________________________________________________\n",
      "dense_2 (Dense)              (None, 64)                4160      \n",
      "_________________________________________________________________\n",
      "dense_3 (Dense)              (None, 1)                 65        \n",
      "=================================================================\n",
      "Total params: 2,064,897\n",
      "Trainable params: 2,064,897\n",
      "Non-trainable params: 0\n",
      "_________________________________________________________________\n"
     ]
    }
   ],
   "source": [
    "#modelo LSTM bidireccional\n",
    "model = tf.keras.Sequential([\n",
    "    tf.keras.layers.Embedding(vocab_size, 64, input_length=maxlen),\n",
    "    tf.keras.layers.Bidirectional(tf.keras.layers.LSTM(64, return_sequences=True)),\n",
    "    tf.keras.layers.Bidirectional(tf.keras.layers.LSTM(32)),\n",
    "    tf.keras.layers.Dense(64, activation='relu'),\n",
    "    tf.keras.layers.Dense(1, activation='sigmoid')\n",
    "])\n",
    "\n",
    "model.compile(loss='binary_crossentropy', optimizer='adam', metrics=['accuracy'])\n",
    "model.summary()"
   ]
  },
  {
   "cell_type": "code",
   "execution_count": 14,
   "metadata": {},
   "outputs": [
    {
     "name": "stdout",
     "output_type": "stream",
     "text": [
      "Train on 5100 samples, validate on 2513 samples\n",
      "Epoch 1/10\n",
      "5100/5100 [==============================] - 22s 4ms/sample - loss: 0.5790 - accuracy: 0.6967 - val_loss: 0.4944 - val_accuracy: 0.7676\n",
      "Epoch 2/10\n",
      "5100/5100 [==============================] - 17s 3ms/sample - loss: 0.3470 - accuracy: 0.8624 - val_loss: 0.4805 - val_accuracy: 0.7875\n",
      "Epoch 3/10\n",
      "5100/5100 [==============================] - 17s 3ms/sample - loss: 0.2064 - accuracy: 0.9322 - val_loss: 0.5762 - val_accuracy: 0.7533\n",
      "Epoch 4/10\n",
      "5100/5100 [==============================] - 16s 3ms/sample - loss: 0.1220 - accuracy: 0.9629 - val_loss: 0.7851 - val_accuracy: 0.7326\n",
      "Epoch 5/10\n",
      "5100/5100 [==============================] - 15s 3ms/sample - loss: 0.0765 - accuracy: 0.9771 - val_loss: 0.9161 - val_accuracy: 0.7358\n",
      "Epoch 6/10\n",
      "5100/5100 [==============================] - 16s 3ms/sample - loss: 0.0591 - accuracy: 0.9810 - val_loss: 0.9184 - val_accuracy: 0.7684\n",
      "Epoch 7/10\n",
      "5100/5100 [==============================] - 18s 4ms/sample - loss: 0.0421 - accuracy: 0.9882 - val_loss: 1.0810 - val_accuracy: 0.7573\n",
      "Epoch 8/10\n",
      "5100/5100 [==============================] - 15s 3ms/sample - loss: 0.0272 - accuracy: 0.9914 - val_loss: 1.1494 - val_accuracy: 0.7425\n",
      "Epoch 9/10\n",
      "5100/5100 [==============================] - 15s 3ms/sample - loss: 0.0220 - accuracy: 0.9935 - val_loss: 1.1437 - val_accuracy: 0.7489\n",
      "Epoch 10/10\n",
      "5100/5100 [==============================] - 15s 3ms/sample - loss: 0.0286 - accuracy: 0.9906 - val_loss: 1.1584 - val_accuracy: 0.7565\n"
     ]
    },
    {
     "data": {
      "text/plain": [
       "<tensorflow.python.keras.callbacks.History at 0x7fa0bc12bd90>"
      ]
     },
     "execution_count": 14,
     "metadata": {},
     "output_type": "execute_result"
    }
   ],
   "source": [
    "model.fit(padded_train, y_train, epochs=epochs, validation_data=(padded_test, y_test))"
   ]
  },
  {
   "cell_type": "code",
   "execution_count": 15,
   "metadata": {},
   "outputs": [
    {
     "data": {
      "text/html": [
       "<div>\n",
       "<style scoped>\n",
       "    .dataframe tbody tr th:only-of-type {\n",
       "        vertical-align: middle;\n",
       "    }\n",
       "\n",
       "    .dataframe tbody tr th {\n",
       "        vertical-align: top;\n",
       "    }\n",
       "\n",
       "    .dataframe thead th {\n",
       "        text-align: right;\n",
       "    }\n",
       "</style>\n",
       "<table border=\"1\" class=\"dataframe\">\n",
       "  <thead>\n",
       "    <tr style=\"text-align: right;\">\n",
       "      <th></th>\n",
       "      <th>target</th>\n",
       "    </tr>\n",
       "    <tr>\n",
       "      <th>id</th>\n",
       "      <th></th>\n",
       "    </tr>\n",
       "  </thead>\n",
       "  <tbody>\n",
       "    <tr>\n",
       "      <th>0</th>\n",
       "      <td>0</td>\n",
       "    </tr>\n",
       "    <tr>\n",
       "      <th>2</th>\n",
       "      <td>1</td>\n",
       "    </tr>\n",
       "    <tr>\n",
       "      <th>3</th>\n",
       "      <td>1</td>\n",
       "    </tr>\n",
       "    <tr>\n",
       "      <th>9</th>\n",
       "      <td>1</td>\n",
       "    </tr>\n",
       "    <tr>\n",
       "      <th>11</th>\n",
       "      <td>1</td>\n",
       "    </tr>\n",
       "  </tbody>\n",
       "</table>\n",
       "</div>"
      ],
      "text/plain": [
       "    target\n",
       "id        \n",
       "0        0\n",
       "2        1\n",
       "3        1\n",
       "9        1\n",
       "11       1"
      ]
     },
     "execution_count": 15,
     "metadata": {},
     "output_type": "execute_result"
    }
   ],
   "source": [
    "preds = model.predict_classes(padded_FTest)\n",
    "#preds = pd.Series(preds)\n",
    "preds = pd.Series(list((x[0] for x in preds)))\n",
    "preds\n",
    "df_preds = pd.concat([test_ids,preds],axis=1)\n",
    "df_preds.rename(columns = {0 : 'target'}, inplace=True)\n",
    "df_preds.set_index('id', inplace=True)\n",
    "df_preds.to_csv('BERT-BiLSTM.csv')\n",
    "df_preds.head()"
   ]
  },
  {
   "cell_type": "code",
   "execution_count": 53,
   "metadata": {},
   "outputs": [
    {
     "name": "stdout",
     "output_type": "stream",
     "text": [
      "Model: \"sequential_8\"\n",
      "_________________________________________________________________\n",
      "Layer (type)                 Output Shape              Param #   \n",
      "=================================================================\n",
      "embedding_8 (Embedding)      (None, 60, 64)            1953408   \n",
      "_________________________________________________________________\n",
      "conv1d_5 (Conv1D)            (None, 56, 128)           41088     \n",
      "_________________________________________________________________\n",
      "global_average_pooling1d_5 ( (None, 128)               0         \n",
      "_________________________________________________________________\n",
      "dense_16 (Dense)             (None, 64)                8256      \n",
      "_________________________________________________________________\n",
      "dense_17 (Dense)             (None, 1)                 65        \n",
      "=================================================================\n",
      "Total params: 2,002,817\n",
      "Trainable params: 2,002,817\n",
      "Non-trainable params: 0\n",
      "_________________________________________________________________\n"
     ]
    }
   ],
   "source": [
    "#modelo Conv1D\n",
    "model = tf.keras.Sequential([\n",
    "    tf.keras.layers.Embedding(vocab_size, 64, input_length=maxlen),\n",
    "    tf.keras.layers.Conv1D(128, 5, activation='relu'),\n",
    "    tf.keras.layers.GlobalAveragePooling1D(),\n",
    "    tf.keras.layers.Dense(64, activation='relu'),\n",
    "    tf.keras.layers.Dense(1, activation='sigmoid')\n",
    "])\n",
    "\n",
    "model.compile(loss='binary_crossentropy', optimizer='adam', metrics=['accuracy'])\n",
    "model.summary()"
   ]
  },
  {
   "cell_type": "code",
   "execution_count": 54,
   "metadata": {},
   "outputs": [
    {
     "name": "stdout",
     "output_type": "stream",
     "text": [
      "Train on 5100 samples, validate on 2513 samples\n",
      "Epoch 1/2\n",
      "5100/5100 [==============================] - 5s 1ms/sample - loss: 0.5984 - accuracy: 0.6704 - val_loss: 0.4630 - val_accuracy: 0.7943\n",
      "Epoch 2/2\n",
      "5100/5100 [==============================] - 5s 974us/sample - loss: 0.3415 - accuracy: 0.8600 - val_loss: 0.4600 - val_accuracy: 0.8098\n"
     ]
    },
    {
     "data": {
      "text/plain": [
       "<tensorflow.python.keras.callbacks.History at 0x7fa076d446d0>"
      ]
     },
     "execution_count": 54,
     "metadata": {},
     "output_type": "execute_result"
    }
   ],
   "source": [
    "model.fit(padded_train, y_train, epochs=2, validation_data=(padded_test, y_test))"
   ]
  },
  {
   "cell_type": "code",
   "execution_count": 55,
   "metadata": {},
   "outputs": [
    {
     "data": {
      "text/html": [
       "<div>\n",
       "<style scoped>\n",
       "    .dataframe tbody tr th:only-of-type {\n",
       "        vertical-align: middle;\n",
       "    }\n",
       "\n",
       "    .dataframe tbody tr th {\n",
       "        vertical-align: top;\n",
       "    }\n",
       "\n",
       "    .dataframe thead th {\n",
       "        text-align: right;\n",
       "    }\n",
       "</style>\n",
       "<table border=\"1\" class=\"dataframe\">\n",
       "  <thead>\n",
       "    <tr style=\"text-align: right;\">\n",
       "      <th></th>\n",
       "      <th>target</th>\n",
       "    </tr>\n",
       "    <tr>\n",
       "      <th>id</th>\n",
       "      <th></th>\n",
       "    </tr>\n",
       "  </thead>\n",
       "  <tbody>\n",
       "    <tr>\n",
       "      <th>0</th>\n",
       "      <td>0</td>\n",
       "    </tr>\n",
       "    <tr>\n",
       "      <th>2</th>\n",
       "      <td>1</td>\n",
       "    </tr>\n",
       "    <tr>\n",
       "      <th>3</th>\n",
       "      <td>1</td>\n",
       "    </tr>\n",
       "    <tr>\n",
       "      <th>9</th>\n",
       "      <td>0</td>\n",
       "    </tr>\n",
       "    <tr>\n",
       "      <th>11</th>\n",
       "      <td>1</td>\n",
       "    </tr>\n",
       "  </tbody>\n",
       "</table>\n",
       "</div>"
      ],
      "text/plain": [
       "    target\n",
       "id        \n",
       "0        0\n",
       "2        1\n",
       "3        1\n",
       "9        0\n",
       "11       1"
      ]
     },
     "execution_count": 55,
     "metadata": {},
     "output_type": "execute_result"
    }
   ],
   "source": [
    "preds = model.predict_classes(padded_FTest)\n",
    "#preds = pd.Series(preds)\n",
    "preds = pd.Series(list((x[0] for x in preds)))\n",
    "preds\n",
    "df_preds = pd.concat([test_ids,preds],axis=1)\n",
    "df_preds.rename(columns = {0 : 'target'}, inplace=True)\n",
    "df_preds.set_index('id', inplace=True)\n",
    "df_preds.to_csv('BERT-Conv1D.csv')\n",
    "df_preds.head()"
   ]
  },
  {
   "cell_type": "code",
   "execution_count": 19,
   "metadata": {},
   "outputs": [
    {
     "name": "stdout",
     "output_type": "stream",
     "text": [
      "Model: \"sequential_3\"\n",
      "_________________________________________________________________\n",
      "Layer (type)                 Output Shape              Param #   \n",
      "=================================================================\n",
      "embedding_3 (Embedding)      (None, None, 16)          488352    \n",
      "_________________________________________________________________\n",
      "bidirectional_2 (Bidirection (None, 64)                9600      \n",
      "_________________________________________________________________\n",
      "dense_6 (Dense)              (None, 6)                 390       \n",
      "_________________________________________________________________\n",
      "dense_7 (Dense)              (None, 1)                 7         \n",
      "=================================================================\n",
      "Total params: 498,349\n",
      "Trainable params: 498,349\n",
      "Non-trainable params: 0\n",
      "_________________________________________________________________\n"
     ]
    }
   ],
   "source": [
    "#modelo GRU\n",
    "model = tf.keras.Sequential([\n",
    "    tf.keras.layers.Embedding(vocab_size, embedding_dim),\n",
    "    tf.keras.layers.Bidirectional(tf.keras.layers.GRU(32)),\n",
    "    tf.keras.layers.Dense(6, activation='relu'),\n",
    "    tf.keras.layers.Dense(1, activation='sigmoid')\n",
    "])\n",
    "\n",
    "model.compile(loss='binary_crossentropy', optimizer='adam', metrics=['accuracy'])\n",
    "model.summary()"
   ]
  },
  {
   "cell_type": "code",
   "execution_count": 20,
   "metadata": {},
   "outputs": [
    {
     "name": "stdout",
     "output_type": "stream",
     "text": [
      "Train on 5100 samples, validate on 2513 samples\n",
      "Epoch 1/10\n",
      "5100/5100 [==============================] - 8s 2ms/sample - loss: 0.6627 - accuracy: 0.5890 - val_loss: 0.6168 - val_accuracy: 0.6518\n",
      "Epoch 2/10\n",
      "5100/5100 [==============================] - 5s 1ms/sample - loss: 0.5254 - accuracy: 0.7384 - val_loss: 0.5047 - val_accuracy: 0.7768\n",
      "Epoch 3/10\n",
      "5100/5100 [==============================] - 5s 1ms/sample - loss: 0.2980 - accuracy: 0.8812 - val_loss: 0.5430 - val_accuracy: 0.7541\n",
      "Epoch 4/10\n",
      "5100/5100 [==============================] - 6s 1ms/sample - loss: 0.1736 - accuracy: 0.9345 - val_loss: 0.6694 - val_accuracy: 0.7708\n",
      "Epoch 5/10\n",
      "5100/5100 [==============================] - 6s 1ms/sample - loss: 0.1059 - accuracy: 0.9624 - val_loss: 0.8707 - val_accuracy: 0.7557\n",
      "Epoch 6/10\n",
      "5100/5100 [==============================] - 6s 1ms/sample - loss: 0.0730 - accuracy: 0.9761 - val_loss: 0.8715 - val_accuracy: 0.7600\n",
      "Epoch 7/10\n",
      "5100/5100 [==============================] - 5s 1ms/sample - loss: 0.0594 - accuracy: 0.9816 - val_loss: 0.9091 - val_accuracy: 0.7465\n",
      "Epoch 8/10\n",
      "5100/5100 [==============================] - 6s 1ms/sample - loss: 0.0434 - accuracy: 0.9880 - val_loss: 0.9774 - val_accuracy: 0.7405\n",
      "Epoch 9/10\n",
      "5100/5100 [==============================] - 6s 1ms/sample - loss: 0.0368 - accuracy: 0.9902 - val_loss: 1.0475 - val_accuracy: 0.7465\n",
      "Epoch 10/10\n",
      "5100/5100 [==============================] - 6s 1ms/sample - loss: 0.0311 - accuracy: 0.9924 - val_loss: 1.1066 - val_accuracy: 0.7473\n"
     ]
    },
    {
     "data": {
      "text/plain": [
       "<tensorflow.python.keras.callbacks.History at 0x7fa0968caf90>"
      ]
     },
     "execution_count": 20,
     "metadata": {},
     "output_type": "execute_result"
    }
   ],
   "source": [
    "model.fit(padded_train, y_train, epochs=epochs, validation_data=(padded_test, y_test))"
   ]
  },
  {
   "cell_type": "code",
   "execution_count": null,
   "metadata": {},
   "outputs": [],
   "source": []
  },
  {
   "cell_type": "code",
   "execution_count": null,
   "metadata": {},
   "outputs": [],
   "source": []
  },
  {
   "cell_type": "code",
   "execution_count": 21,
   "metadata": {},
   "outputs": [
    {
     "data": {
      "text/plain": [
       "0       0\n",
       "1       1\n",
       "2       1\n",
       "3       1\n",
       "4       1\n",
       "       ..\n",
       "3258    1\n",
       "3259    1\n",
       "3260    1\n",
       "3261    1\n",
       "3262    1\n",
       "Length: 3263, dtype: int64"
      ]
     },
     "execution_count": 21,
     "metadata": {},
     "output_type": "execute_result"
    }
   ],
   "source": [
    "preds = model.predict_classes(padded_FTest)\n",
    "#preds = pd.Series(preds)\n",
    "preds = pd.Series(list((x[0] for x in preds)))\n",
    "preds"
   ]
  },
  {
   "cell_type": "code",
   "execution_count": 22,
   "metadata": {},
   "outputs": [
    {
     "data": {
      "text/html": [
       "<div>\n",
       "<style scoped>\n",
       "    .dataframe tbody tr th:only-of-type {\n",
       "        vertical-align: middle;\n",
       "    }\n",
       "\n",
       "    .dataframe tbody tr th {\n",
       "        vertical-align: top;\n",
       "    }\n",
       "\n",
       "    .dataframe thead th {\n",
       "        text-align: right;\n",
       "    }\n",
       "</style>\n",
       "<table border=\"1\" class=\"dataframe\">\n",
       "  <thead>\n",
       "    <tr style=\"text-align: right;\">\n",
       "      <th></th>\n",
       "      <th>target</th>\n",
       "    </tr>\n",
       "    <tr>\n",
       "      <th>id</th>\n",
       "      <th></th>\n",
       "    </tr>\n",
       "  </thead>\n",
       "  <tbody>\n",
       "    <tr>\n",
       "      <th>0</th>\n",
       "      <td>0</td>\n",
       "    </tr>\n",
       "    <tr>\n",
       "      <th>2</th>\n",
       "      <td>1</td>\n",
       "    </tr>\n",
       "    <tr>\n",
       "      <th>3</th>\n",
       "      <td>1</td>\n",
       "    </tr>\n",
       "    <tr>\n",
       "      <th>9</th>\n",
       "      <td>1</td>\n",
       "    </tr>\n",
       "    <tr>\n",
       "      <th>11</th>\n",
       "      <td>1</td>\n",
       "    </tr>\n",
       "  </tbody>\n",
       "</table>\n",
       "</div>"
      ],
      "text/plain": [
       "    target\n",
       "id        \n",
       "0        0\n",
       "2        1\n",
       "3        1\n",
       "9        1\n",
       "11       1"
      ]
     },
     "execution_count": 22,
     "metadata": {},
     "output_type": "execute_result"
    }
   ],
   "source": [
    "df_preds = pd.concat([test_ids,preds],axis=1)\n",
    "df_preds.rename(columns = {0 : 'target'}, inplace=True)\n",
    "df_preds.set_index('id', inplace=True)\n",
    "df_preds.to_csv('BERT-GRU.csv')\n",
    "df_preds.head()"
   ]
  },
  {
   "cell_type": "markdown",
   "metadata": {},
   "source": [
    "Tuning: \n",
    "1-  epochs = 10\n",
    "    maxlen = 50\n",
    "    n_words = 500\n",
    "    embedding_dim = 16\n",
    "Acuracy: 0.7441\n",
    "\n",
    "2-  epochs = 6\n",
    "    maxlen = 40\n",
    "    n_words = 500\n",
    "    embedding_dim = 16\n",
    "Accuracy : 0.7656b\n",
    "\n",
    "3-  epochs = 5\n",
    "    maxlen = 40\n",
    "    n_words = 300\n",
    "    embedding_dim = 16\n",
    "Accuracy: 0.7437\n",
    "s"
   ]
  },
  {
   "cell_type": "code",
   "execution_count": null,
   "metadata": {},
   "outputs": [],
   "source": []
  }
 ],
 "metadata": {
  "kernelspec": {
   "display_name": "Python 3",
   "language": "python",
   "name": "python3"
  },
  "language_info": {
   "codemirror_mode": {
    "name": "ipython",
    "version": 3
   },
   "file_extension": ".py",
   "mimetype": "text/x-python",
   "name": "python",
   "nbconvert_exporter": "python",
   "pygments_lexer": "ipython3",
   "version": "3.7.6"
  }
 },
 "nbformat": 4,
 "nbformat_minor": 4
}
