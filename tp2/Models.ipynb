{
 "cells": [
  {
   "cell_type": "code",
   "execution_count": 16,
   "metadata": {},
   "outputs": [],
   "source": [
    "import pandas as pd\n",
    "\n",
    "from sklearn.model_selection import train_test_split\n",
    "from sklearn.metrics import f1_score\n",
    "from sklearn.model_selection import GridSearchCV\n",
    "\n",
    "from sklearn.ensemble import RandomForestClassifier\n",
    "from sklearn.naive_bayes import MultinomialNB\n",
    "from sklearn.linear_model import LogisticRegression"
   ]
  },
  {
   "cell_type": "code",
   "execution_count": 5,
   "metadata": {},
   "outputs": [],
   "source": [
    "train = pd.read_csv('final_train.csv')\n",
    "submission = train.loc[train['source'] == 'test']\n",
    "train = train.loc[train['source'] == 'train']"
   ]
  },
  {
   "cell_type": "code",
   "execution_count": 2,
   "metadata": {},
   "outputs": [],
   "source": [
    "def generateSubmission(predicts, model):\n",
    "    submission = test[['id', 'target']]\n",
    "    submission['target'] = predicts\n",
    "    submission.to_csv(model + '_pred.csv', index=False)"
   ]
  },
  {
   "cell_type": "code",
   "execution_count": 13,
   "metadata": {},
   "outputs": [],
   "source": [
    "train_numeric = train[['entities_count', 'words_count', 'punctuations_signs_count', 'hashtags_count', 'mentions_count', 'urls_count', \n",
    "           'stopwords_count', 'words_length_avg', 'punctuations_ratio', 'mentions_ratio', 'urls_ratio', 'stopwords_ratio',\n",
    "           'special_entities_ratio', 'keyword_cv_mean_enc']]"
   ]
  },
  {
   "cell_type": "code",
   "execution_count": null,
   "metadata": {},
   "outputs": [],
   "source": [
    "def tdfIdfVectorization(columnName):\n",
    "    vector = TfidfVectorizer(sublinear_tf=True)\n",
    "    vector.fit(np.array(train[columnName]).ravel())\n",
    "    vector.transform(np.array(train[columnName]).ravel())\n",
    "    \n",
    "    return vector"
   ]
  },
  {
   "cell_type": "markdown",
   "metadata": {},
   "source": [
    "## RandomForest"
   ]
  },
  {
   "cell_type": "code",
   "execution_count": 17,
   "metadata": {},
   "outputs": [
    {
     "name": "stdout",
     "output_type": "stream",
     "text": [
      "{'max_depth': 8, 'max_features': 10, 'min_samples_leaf': 45, 'min_samples_split': 15, 'n_estimators': 6}\n"
     ]
    }
   ],
   "source": [
    "def randomForestGridSearch():\n",
    "    X_train, X_test, y_train, y_test = train_test_split(train_numeric.values, train['target'].values, test_size=0.2, random_state=530)\n",
    "    \n",
    "    rf_folds = 5\n",
    "    rf_grid = dict(n_estimators=[3, 6, 9, 12], max_depth=[4, 8, 12], min_samples_split=[15, 30, 45, 60], min_samples_leaf=[15, 30, 45, 60], max_features=[5, 10, 13])\n",
    "    clf = GridSearchCV(estimator=RandomForestClassifier(random_state=51), param_grid=rf_grid, n_jobs=-1, cv=rf_folds, scoring='f1', error_score=0)\n",
    "    clf.fit(X_train, y_train)\n",
    "    print(\"Mejores parametros encontrados:\", clf.best_params_)\n",
    "\n",
    "    rf_best_model = RandomForestClassifier(random_state=51, n_estimators=clf.best_params_['n_estimators'], max_features=clf.best_params_['max_features'], min_samples_leaf=clf.best_params_['min_samples_leaf'], min_samples_split=clf.best_params_['min_samples_split'], max_depth=clf.best_params_['max_depth'])\n",
    "    rf_best_model.fit(X_train, y_train)\n",
    "    preds = rf_best_model.predict(X_test)\n",
    "    print(\"Score RF:\", f1_score(y_test, preds))\n",
    "    \n",
    "    print(train_numeric.columns)\n",
    "    print(rfModel.feature_importances_)\n",
    "    \n",
    "    return preds"
   ]
  },
  {
   "cell_type": "code",
   "execution_count": 15,
   "metadata": {},
   "outputs": [
    {
     "name": "stdout",
     "output_type": "stream",
     "text": [
      "Index(['entities_count', 'words_count', 'punctuations_signs_count',\n",
      "       'hashtags_count', 'mentions_count', 'urls_count', 'stopwords_count',\n",
      "       'words_length_avg', 'punctuations_ratio', 'mentions_ratio',\n",
      "       'urls_ratio', 'stopwords_ratio', 'special_entities_ratio',\n",
      "       'keyword_cv_mean_enc'],\n",
      "      dtype='object')\n",
      "[0.05644658 0.05798196 0.03487719 0.02256482 0.01481041 0.02815201\n",
      " 0.04430825 0.11938474 0.06234703 0.02888719 0.05111061 0.07735382\n",
      " 0.07879236 0.32298302]\n"
     ]
    }
   ],
   "source": [
    "print(train_numeric.columns)\n",
    "print(rfModel.feature_importances_)"
   ]
  },
  {
   "cell_type": "markdown",
   "metadata": {},
   "source": [
    "## Naive Bayes"
   ]
  },
  {
   "cell_type": "code",
   "execution_count": null,
   "metadata": {},
   "outputs": [],
   "source": [
    "def naiveBayesGridSearch(columnName):\n",
    "    vector = tdfIdfVectorization(columnName)\n",
    "    \n",
    "    X = vector.transform(np.array(train[columnName]).ravel())\n",
    "    y = np.array(train['target']).ravel()\n",
    "    X_train, X_test, y_train, y_test = train_test_split(X, y, test_size=0.2, random_state=30)\n",
    "    \n",
    "    nb_model = MultinomialNB()\n",
    "    nb_model.fit(X_train, y_train)\n",
    "    predicts = nb_model.predict(X_test)\n",
    "    print(\"Score NB:\", f1_score(y_test, predicts))\n",
    "    \n",
    "    return predicts"
   ]
  },
  {
   "cell_type": "markdown",
   "metadata": {},
   "source": [
    "## Logistic Regression"
   ]
  },
  {
   "cell_type": "code",
   "execution_count": null,
   "metadata": {},
   "outputs": [],
   "source": [
    "def logisticRegressionGridSearch(columnName):\n",
    "    vector = tdfIdfVectorization(columnName)\n",
    "    \n",
    "    X = vector.transform(np.array(train[columnName]).ravel())\n",
    "    y = np.array(train['target']).ravel()\n",
    "    X_train, X_test, y_train, y_test = train_test_split(X, y, test_size=0.2, random_state=30)\n",
    "    \n",
    "    lr_model = LogisticRegression(solver='lbfgs')\n",
    "    lr_model.fit(X_train, y_train)\n",
    "    predicts = lr_model.predict(X_test)\n",
    "    print(\"Score LR:\", f1_score(y_test, predicts))\n",
    "    \n",
    "    return predicts"
   ]
  }
 ],
 "metadata": {
  "kernelspec": {
   "display_name": "Python 3",
   "language": "python",
   "name": "python3"
  },
  "language_info": {
   "codemirror_mode": {
    "name": "ipython",
    "version": 3
   },
   "file_extension": ".py",
   "mimetype": "text/x-python",
   "name": "python",
   "nbconvert_exporter": "python",
   "pygments_lexer": "ipython3",
   "version": "3.7.6"
  }
 },
 "nbformat": 4,
 "nbformat_minor": 4
}
