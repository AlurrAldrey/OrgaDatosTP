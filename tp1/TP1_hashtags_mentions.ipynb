{
 "cells": [
  {
   "cell_type": "code",
   "execution_count": 1,
   "metadata": {},
   "outputs": [],
   "source": [
    "import pandas as pd\n",
    "from nltk.corpus import stopwords\n",
    "from collections import Counter\n",
    "import numpy as np\n",
    "\n",
    "from sklearn.feature_extraction.text import TfidfVectorizer"
   ]
  },
  {
   "cell_type": "code",
   "execution_count": 2,
   "metadata": {},
   "outputs": [],
   "source": [
    "disasters = pd.read_csv('train.csv')\n",
    "stop = stopwords.words('english')\n",
    "\n",
    "#Si no encuentra \"stopwords\"\n",
    "#import nltk\n",
    "#nltk.download('stopwords')"
   ]
  },
  {
   "cell_type": "markdown",
   "metadata": {},
   "source": [
    "## Analisis de los datos"
   ]
  },
  {
   "cell_type": "code",
   "execution_count": 54,
   "metadata": {},
   "outputs": [
    {
     "name": "stdout",
     "output_type": "stream",
     "text": [
      "<class 'pandas.core.frame.DataFrame'>\n",
      "RangeIndex: 7613 entries, 0 to 7612\n",
      "Data columns (total 8 columns):\n",
      " #   Column          Non-Null Count  Dtype  \n",
      "---  ------          --------------  -----  \n",
      " 0   id              7613 non-null   int64  \n",
      " 1   keyword         7552 non-null   object \n",
      " 2   location        5080 non-null   object \n",
      " 3   text            7613 non-null   object \n",
      " 4   target          7613 non-null   int64  \n",
      " 5   target_mean     7613 non-null   float64\n",
      " 6   clean_keyword   7557 non-null   object \n",
      " 7   clean_location  5107 non-null   object \n",
      "dtypes: float64(1), int64(2), object(5)\n",
      "memory usage: 475.9+ KB\n"
     ]
    }
   ],
   "source": [
    "disasters.info()"
   ]
  },
  {
   "cell_type": "markdown",
   "metadata": {},
   "source": [
    "### Analizando repetidos y limpiando el set de datos "
   ]
  },
  {
   "cell_type": "code",
   "execution_count": 43,
   "metadata": {},
   "outputs": [],
   "source": [
    "def getMostFrequentValue(x):\n",
    "    return x.value_counts().index[0] if len(x.value_counts()) > 0 else np.NaN\n",
    "\n",
    "#Para todos los tweets tomamos el valor mas frecuente (o NaN si no hay valor) de las columnas keyword y location indexando por texto\n",
    "disasters['clean_keyword'] = disasters.loc[:, ['text', 'keyword']].groupby(['text']).transform(getMostFrequentValue)\n",
    "disasters['clean_location'] = disasters.loc[:, ['text', 'location']].groupby(['text']).transform(getMostFrequentValue)"
   ]
  },
  {
   "cell_type": "code",
   "execution_count": 26,
   "metadata": {},
   "outputs": [],
   "source": [
    "#Agrego la columna target_mean la cual servira para analizar los casos en que un tweet repetido haya sido tagueado de las dos formas posibles\n",
    "disasters['target_mean'] = disasters.loc[:, ['text', 'target']].groupby('text').transform('mean')"
   ]
  },
  {
   "cell_type": "markdown",
   "metadata": {},
   "source": [
    "### Analizamos manualmente los casos en los cuales hay una cantidad par de tweets repetidos y la mitad es considerada desastre y la otra mitad no (24 tweets conflictivos)"
   ]
  },
  {
   "cell_type": "code",
   "execution_count": 50,
   "metadata": {},
   "outputs": [
    {
     "name": "stderr",
     "output_type": "stream",
     "text": [
      "C:\\ProgramData\\Miniconda3\\lib\\site-packages\\ipykernel_launcher.py:1: FutureWarning: Passing a negative integer is deprecated in version 1.0 and will not be supported in future version. Instead, use None to not limit the column width.\n",
      "  \"\"\"Entry point for launching an IPython kernel.\n"
     ]
    },
    {
     "data": {
      "text/plain": [
       "610     To fight bioterrorism sir.                                                                                                       \n",
       "624     To fight bioterrorism sir.                                                                                                       \n",
       "630     To fight bioterrorism sir.                                                                                                       \n",
       "634     To fight bioterrorism sir.                                                                                                       \n",
       "1197    Mmmmmm I'm burning.... I'm burning buildings I'm building.... Oooooohhhh oooh ooh...                                             \n",
       "1214    I Pledge Allegiance To The P.O.P.E. And The Burning Buildings of Epic City. ??????                                               \n",
       "1221    like for the music video I want some real action shit like burning buildings and police chases not some weak ben winston shit    \n",
       "1331    Mmmmmm I'm burning.... I'm burning buildings I'm building.... Oooooohhhh oooh ooh...                                             \n",
       "1349    like for the music video I want some real action shit like burning buildings and police chases not some weak ben winston shit    \n",
       "1365    I Pledge Allegiance To The P.O.P.E. And The Burning Buildings of Epic City. ??????                                               \n",
       "4232    Caution: breathing may be hazardous to your health.                                                                              \n",
       "4235    Caution: breathing may be hazardous to your health.                                                                              \n",
       "4306    Hellfire! We donÛªt even want to think about it or mention it so letÛªs not do anything that leads to it #islam!               \n",
       "4320    Hellfire! We donÛªt even want to think about it or mention it so letÛªs not do anything that leads to it #islam!               \n",
       "4379    RT NotExplained: The only known image of infamous hijacker D.B. Cooper. http://t.co/JlzK2HdeTG                                   \n",
       "4381    RT NotExplained: The only known image of infamous hijacker D.B. Cooper. http://t.co/JlzK2HdeTG                                   \n",
       "5620    wowo--=== 12000 Nigerian refugees repatriated from Cameroon                                                                      \n",
       "5641    wowo--=== 12000 Nigerian refugees repatriated from Cameroon                                                                      \n",
       "6091    that horrible sinking feeling when youÛªve been at home on your phone for a while and you realise its been on 3G this whole time\n",
       "6094    that horrible sinking feeling when youÛªve been at home on your phone for a while and you realise its been on 3G this whole time\n",
       "6103    that horrible sinking feeling when youÛªve been at home on your phone for a while and you realise its been on 3G this whole time\n",
       "6123    that horrible sinking feeling when youÛªve been at home on your phone for a while and you realise its been on 3G this whole time\n",
       "6614    In #islam saving a person is equal in reward to saving all humans! Islam is the opposite of terrorism!                           \n",
       "6616    In #islam saving a person is equal in reward to saving all humans! Islam is the opposite of terrorism!                           \n",
       "Name: text, dtype: object"
      ]
     },
     "execution_count": 50,
     "metadata": {},
     "output_type": "execute_result"
    }
   ],
   "source": [
    "pd.set_option('display.max_colwidth', -1)\n",
    "disasters.loc[disasters['target_mean'] == 0.5, 'text']"
   ]
  },
  {
   "cell_type": "code",
   "execution_count": 52,
   "metadata": {},
   "outputs": [
    {
     "name": "stderr",
     "output_type": "stream",
     "text": [
      "C:\\ProgramData\\Miniconda3\\lib\\site-packages\\ipykernel_launcher.py:3: SettingWithCopyWarning: \n",
      "A value is trying to be set on a copy of a slice from a DataFrame.\n",
      "Try using .loc[row_indexer,col_indexer] = value instead\n",
      "\n",
      "See the caveats in the documentation: https://pandas.pydata.org/pandas-docs/stable/user_guide/indexing.html#returning-a-view-versus-a-copy\n",
      "  This is separate from the ipykernel package so we can avoid doing imports until\n",
      "C:\\ProgramData\\Miniconda3\\lib\\site-packages\\ipykernel_launcher.py:4: SettingWithCopyWarning: \n",
      "A value is trying to be set on a copy of a slice from a DataFrame.\n",
      "Try using .loc[row_indexer,col_indexer] = value instead\n",
      "\n",
      "See the caveats in the documentation: https://pandas.pydata.org/pandas-docs/stable/user_guide/indexing.html#returning-a-view-versus-a-copy\n",
      "  after removing the cwd from sys.path.\n"
     ]
    }
   ],
   "source": [
    "disasters.iloc[[610, 624, 630, 634, 1221, 1349, 4379, 4381]]['target_mean'] = 1\n",
    "disasters.iloc[[1197, 1331, 1214, 1365, 1221, 1349, 4306, 4320, 4379, 4381, 5321, 5641, 6091, 6094, 6103, 6123, 6614, 6616]]['target_mean'] = 0\n",
    "\n",
    "#1197, 1331 -> cancion The Art Of Parties de Japan: https://www.youtube.com/watch?v=nI3wvK8-D10\n",
    "#1214, 1365 -> Letra de otra cancion. Tweet completo: https://twitter.com/ARCaliber/status/1189236220888567808\n",
    "#1221, 1349 -> nota: https://www.loc.gov/item/2018695363/\n",
    "#4306, 4320 -> Tweet contra el islam\n",
    "#4379, 4381 -> Tweet en referencia al secuestrador Dan Cooper (secuestro un avion en 1971)\n",
    "#5320, 5641 -> Nigerianos refugiados repatriados de Camerun\n",
    "#6091, 6094, 6103, 6123 -> Traduciendo se explica\n",
    "#6614, 6616 -> Tweet comparando el islam con el terrorismo"
   ]
  },
  {
   "cell_type": "code",
   "execution_count": 53,
   "metadata": {},
   "outputs": [],
   "source": [
    "#Aquellos tweets repetidos que tengan un target_mean menor a 0.5 los consideraremos con target 0 (no desastres)\n",
    "disasters.loc[disasters['target_mean'] < 0.5, ['target']] = 0\n",
    "\n",
    "#Aquellos tweets repetidos que tengan un target_mean mayor a 0.5 los consideraremos con target 1 (desastres)\n",
    "disasters.loc[disasters['target_mean'] > 0.5, ['target']] = 1"
   ]
  },
  {
   "cell_type": "code",
   "execution_count": 56,
   "metadata": {},
   "outputs": [],
   "source": [
    "disasters.loc[:, ['id', 'keyword', 'location', 'text', 'target']].to_csv('clean_train.csv', index=False)"
   ]
  },
  {
   "cell_type": "markdown",
   "metadata": {},
   "source": [
    "### Agregamos columnas utiles para analizar el set de datos"
   ]
  },
  {
   "cell_type": "markdown",
   "metadata": {},
   "source": [
    "#### Caracteristicas del texto"
   ]
  },
  {
   "cell_type": "code",
   "execution_count": null,
   "metadata": {},
   "outputs": [],
   "source": [
    "disasters['text_word_count'] = disasters.text.str.count(' ') + 1\n",
    "disasters['text_total_len'] = disasters.text.str.len()\n",
    "disasters['text_stripped_len'] = disasters.text.str.replace(' ', '').str.len()\n",
    "disasters['text_word_length_avg'] = disasters.text_stripped_len/disasters.text_word_count\n",
    "disasters['text_without_stopwords'] = disasters['text'].apply(lambda x: \" \".join([item for item in x.lower().split() if item not in stop]))"
   ]
  },
  {
   "cell_type": "markdown",
   "metadata": {},
   "source": [
    "#### Hashtags"
   ]
  },
  {
   "cell_type": "code",
   "execution_count": null,
   "metadata": {},
   "outputs": [],
   "source": [
    "def isHashtag(x):\n",
    "    return x.startswith('#')\n",
    "\n",
    "disasters['hashtags'] = disasters['text_without_stopwords'].apply(lambda x: \" \".join(list(filter(isHashtag, x.split()))))\n",
    "disasters['hashtags_count'] = len(disasters['hashtags'])"
   ]
  },
  {
   "cell_type": "markdown",
   "metadata": {},
   "source": [
    "#### Mentions"
   ]
  },
  {
   "cell_type": "code",
   "execution_count": null,
   "metadata": {},
   "outputs": [],
   "source": [
    "def isMention(x):\n",
    "    return x.startswith('@')\n",
    "\n",
    "disasters['mentions'] = disasters['text_without_stopwords'].apply(lambda x: \" \".join(list(filter(isMention, x.split()))))\n",
    "disasters['mentions_count'] = len(disasters['mentions'])"
   ]
  },
  {
   "cell_type": "markdown",
   "metadata": {},
   "source": [
    "#### URLs"
   ]
  },
  {
   "cell_type": "code",
   "execution_count": 59,
   "metadata": {},
   "outputs": [],
   "source": [
    "import re\n",
    "#URL matcher\n",
    "pattern = r'(https?://[^\\s]+)'\n",
    "\n",
    "disasters['urls'] = disasters['text'].apply(lambda x: re.findall(pattern, x))\n",
    "disasters['urls_count'] = len(disasters['urls'])"
   ]
  },
  {
   "cell_type": "code",
   "execution_count": 197,
   "metadata": {},
   "outputs": [],
   "source": [
    "urls = pd.DataFrame({'url': re.findall(pattern, \" \".join(disasters['text']))})\n",
    "urls.drop_duplicates(inplace=True)\n",
    "#urls.head()"
   ]
  },
  {
   "cell_type": "code",
   "execution_count": 198,
   "metadata": {},
   "outputs": [],
   "source": [
    "disaster_urls = list(np.concatenate(disasters.loc[disasters['target'] == 1, ['urls']].apply(pd.Series).unstack().reset_index(drop=True).dropna()))\n",
    "non_disaster_urls = list(np.concatenate(disasters.loc[disasters['target'] == 0, ['urls']].apply(pd.Series).unstack().reset_index(drop=True).dropna()))"
   ]
  },
  {
   "cell_type": "code",
   "execution_count": 199,
   "metadata": {},
   "outputs": [],
   "source": [
    "urls['frequency_on_disasters'] = urls.url.apply(lambda x: disaster_urls.count(x))\n",
    "urls['frequency_on_non_disasters'] = urls.url.apply(lambda x: non_disaster_urls.count(x))\n",
    "urls['total_frequency'] = urls['frequency_on_disasters'] + urls['frequency_on_non_disasters']"
   ]
  },
  {
   "cell_type": "markdown",
   "metadata": {},
   "source": [
    "### TF-IDF"
   ]
  },
  {
   "cell_type": "code",
   "execution_count": 21,
   "metadata": {},
   "outputs": [],
   "source": [
    "def isValidWord(tested_string):\n",
    "    for letter in tested_string.lower():\n",
    "        if letter not in \"abcdefghijklmnopqrstuvwxyz\":\n",
    "            return False\n",
    "    return True\n",
    "\n",
    "valid_words = \n",
    "\n",
    "tfidf_vectorizer = TfidfVectorizer(use_idf=True, vocabulary=valid_words)\n",
    "tfidf_vectorizer_vectors = tfidf_vectorizer.fit_transform(disasters['text'])"
   ]
  },
  {
   "cell_type": "code",
   "execution_count": 84,
   "metadata": {},
   "outputs": [],
   "source": [
    "#for i in range(0, tfidf_vectorizer_vectors.shape[0]):\n",
    "    \n",
    "first_vector_tfidfvectorizer=tfidf_vectorizer_vectors[0]\n",
    "df = pd.DataFrame(first_vector_tfidfvectorizer.T.todense(), index=tfidf_vectorizer.get_feature_names(), columns=[\"tfidf\"])\n",
    "#df.loc[df['tfidf'] > 0].sort_values(by=[\"tfidf\"],ascending=False)"
   ]
  },
  {
   "cell_type": "code",
   "execution_count": 86,
   "metadata": {},
   "outputs": [
    {
     "data": {
      "text/html": [
       "<div>\n",
       "<style scoped>\n",
       "    .dataframe tbody tr th:only-of-type {\n",
       "        vertical-align: middle;\n",
       "    }\n",
       "\n",
       "    .dataframe tbody tr th {\n",
       "        vertical-align: top;\n",
       "    }\n",
       "\n",
       "    .dataframe thead th {\n",
       "        text-align: right;\n",
       "    }\n",
       "</style>\n",
       "<table border=\"1\" class=\"dataframe\">\n",
       "  <thead>\n",
       "    <tr style=\"text-align: right;\">\n",
       "      <th></th>\n",
       "      <th>tfidf</th>\n",
       "    </tr>\n",
       "  </thead>\n",
       "  <tbody>\n",
       "    <tr>\n",
       "      <th>00</th>\n",
       "      <td>0.0</td>\n",
       "    </tr>\n",
       "    <tr>\n",
       "      <th>000</th>\n",
       "      <td>0.0</td>\n",
       "    </tr>\n",
       "    <tr>\n",
       "      <th>0000</th>\n",
       "      <td>0.0</td>\n",
       "    </tr>\n",
       "    <tr>\n",
       "      <th>007npen6lg</th>\n",
       "      <td>0.0</td>\n",
       "    </tr>\n",
       "    <tr>\n",
       "      <th>00cy9vxeff</th>\n",
       "      <td>0.0</td>\n",
       "    </tr>\n",
       "    <tr>\n",
       "      <th>...</th>\n",
       "      <td>...</td>\n",
       "    </tr>\n",
       "    <tr>\n",
       "      <th>ûóher</th>\n",
       "      <td>0.0</td>\n",
       "    </tr>\n",
       "    <tr>\n",
       "      <th>ûókody</th>\n",
       "      <td>0.0</td>\n",
       "    </tr>\n",
       "    <tr>\n",
       "      <th>ûónegligence</th>\n",
       "      <td>0.0</td>\n",
       "    </tr>\n",
       "    <tr>\n",
       "      <th>ûótech</th>\n",
       "      <td>0.0</td>\n",
       "    </tr>\n",
       "    <tr>\n",
       "      <th>ûówe</th>\n",
       "      <td>0.0</td>\n",
       "    </tr>\n",
       "  </tbody>\n",
       "</table>\n",
       "<p>21637 rows × 1 columns</p>\n",
       "</div>"
      ],
      "text/plain": [
       "              tfidf\n",
       "00              0.0\n",
       "000             0.0\n",
       "0000            0.0\n",
       "007npen6lg      0.0\n",
       "00cy9vxeff      0.0\n",
       "...             ...\n",
       "ûóher           0.0\n",
       "ûókody          0.0\n",
       "ûónegligence    0.0\n",
       "ûótech          0.0\n",
       "ûówe            0.0\n",
       "\n",
       "[21637 rows x 1 columns]"
      ]
     },
     "execution_count": 86,
     "metadata": {},
     "output_type": "execute_result"
    }
   ],
   "source": [
    "def isValidWord(tested_string):\n",
    "    for letter in tested_string.lower():\n",
    "        if letter not in \"abcdefghijklmnopqrstuvwxyz\":\n",
    "            return False\n",
    "    return True\n",
    "\n",
    "#valid_words = [c for c in dft.columns if isValidWord(c)]\n",
    "#dft.loc[:, valid_words]\n",
    "#dft.drop(words_to_remove, axis=1, inplace=True)\n",
    "#dft.head()\n",
    "df"
   ]
  },
  {
   "cell_type": "markdown",
   "metadata": {},
   "source": [
    "## Graficos"
   ]
  },
  {
   "cell_type": "code",
   "execution_count": 68,
   "metadata": {},
   "outputs": [],
   "source": [
    "import matplotlib.pyplot as plt\n",
    "import seaborn as sns\n",
    "from wordcloud import WordCloud, STOPWORDS, ImageColorGenerator, get_single_color_func\n",
    "from PIL import Image"
   ]
  },
  {
   "cell_type": "code",
   "execution_count": null,
   "metadata": {},
   "outputs": [],
   "source": [
    "def getMostCommonValue(x):\n",
    "    return x[0]\n",
    "\n",
    "def getMostCommonFreq(x):\n",
    "    return x[1]"
   ]
  },
  {
   "cell_type": "code",
   "execution_count": null,
   "metadata": {},
   "outputs": [],
   "source": [
    "disaster_hashtags = \" \".join(disasters.loc[disasters['target'] == 1, 'hashtags'])\n",
    "non_disaster_hashtags = \" \".join(disasters.loc[disasters['target'] == 0, 'hashtags'])"
   ]
  },
  {
   "cell_type": "code",
   "execution_count": null,
   "metadata": {},
   "outputs": [],
   "source": [
    "f, axes = plt.subplots(1, 2, figsize=(13,7))\n",
    "f.subplots_adjust(wspace=0)\n",
    "\n",
    "#Hashtags comunes para los desastres\n",
    "disasters_most_common_hashtags = Counter(disaster_hashtags.split()).most_common(15)\n",
    "top_15_used_hashtags_in_disasters = pd.DataFrame({\n",
    "            'word':list(map(getMostCommonValue, disasters_most_common_hashtags)), \n",
    "            'freq':list(map(getMostCommonFreq, disasters_most_common_hashtags))\n",
    "        })\n",
    "\n",
    "plt_top_15_used_hashtags_in_disasters = sns.barplot(x='freq', y='word', data=top_15_used_hashtags_in_disasters, orient='h', ax=axes[0],\n",
    "                                                    palette=sns.cubehelix_palette(start=2.5, rot=-0.2, dark=0.3, n_colors=15, reverse=True)\n",
    "                                                   )\n",
    "plt_top_15_used_hashtags_in_disasters.set_xlabel('Frecuencia')\n",
    "plt_top_15_used_hashtags_in_disasters.set_ylabel('Hashtag')\n",
    "plt_top_15_used_hashtags_in_disasters.set(title=\"Tweets desastres\")\n",
    "\n",
    "plt_top_15_used_hashtags_in_disasters.invert_xaxis()\n",
    "\n",
    "#Hashtags comunes para los no desastres\n",
    "non_disasters_most_common_hashtags = Counter(non_disaster_hashtags.split()).most_common(15)\n",
    "top_15_used_hashtags_in_non_disasters = pd.DataFrame({\n",
    "            'word':list(map(getMostCommonValue, non_disasters_most_common_hashtags)), \n",
    "            'freq':list(map(getMostCommonFreq, non_disasters_most_common_hashtags))\n",
    "        })\n",
    "\n",
    "plt_top_15_used_hashtags_in_non_disasters = sns.barplot(x='freq', y='word', data=top_15_used_hashtags_in_non_disasters, orient='h', ax=axes[1], \n",
    "                                                    palette=sns.cubehelix_palette(start=0.75, rot=-0.2, dark=0.3, n_colors=15, reverse=True)\n",
    "                                                   )\n",
    "plt_top_15_used_hashtags_in_non_disasters.set_xlabel('Frecuencia')\n",
    "plt_top_15_used_hashtags_in_non_disasters.set_ylabel('')\n",
    "plt_top_15_used_hashtags_in_non_disasters.set(title=\"Tweets no-desastres\")\n",
    "\n",
    "plt_top_15_used_hashtags_in_non_disasters.set_xticks([0, 10, 20, 30, 40, 50])\n",
    "\n",
    "plt_top_15_used_hashtags_in_non_disasters.yaxis.tick_right()\n",
    "\n",
    "sns.despine(left=True, bottom=True)\n",
    "f.suptitle('Top 15 hashtags in tweets')"
   ]
  },
  {
   "cell_type": "code",
   "execution_count": 96,
   "metadata": {},
   "outputs": [
    {
     "data": {
      "text/plain": [
       "[Text(0, 0, 'http://t.co/qew4c5M1xd'),\n",
       " Text(0, 0, 'http://t.co/KSAwlYuX02'),\n",
       " Text(0, 0, 'http://t.co/q2eBlOKeVE'),\n",
       " Text(0, 0, 'http://t.co/eNCmhz6y34'),\n",
       " Text(0, 0, 'http://t.co/vVPLFQv58P'),\n",
       " Text(0, 0, 'http://t.co/cybKsXHF7d'),\n",
       " Text(0, 0, 'https://t.co/moLL5vd8yD'),\n",
       " Text(0, 0, 'http://t.co/LvlH3W3aWO'),\n",
       " Text(0, 0, 'http://t.co/o91f3cYy0R'),\n",
       " Text(0, 0, 'http://t.co/zujwUiomb3'),\n",
       " Text(0, 0, 'http://t.co/vIwXY1XDYK'),\n",
       " Text(0, 0, 'https://t.co/rqWuoy1fm4'),\n",
       " Text(0, 0, 'http://t.co/nnMQlz91o9'),\n",
       " Text(0, 0, 'http://t.co/thoYhrHkfJ'),\n",
       " Text(0, 0, 'http://t.co/WvJ39a3BGM')]"
      ]
     },
     "execution_count": 96,
     "metadata": {},
     "output_type": "execute_result"
    },
    {
     "data": {
      "image/png": "[encoded data removed]",
      "text/plain": [
       "<Figure size 432x288 with 1 Axes>"
      ]
     },
     "metadata": {},
     "output_type": "display_data"
    }
   ],
   "source": [
    "#sns.set(style=\"whitegrid\")\n",
    "top_15_urls = urls.url.value_counts().head(15)\n",
    "plt_top_15_used_urls = sns.barplot(x=top_15_urls.index, y=top_15_urls)\n",
    "plt_top_15_used_urls.set_xticklabels(plt_top_15_used_urls.get_xticklabels(), rotation=90)"
   ]
  },
  {
   "cell_type": "code",
   "execution_count": 201,
   "metadata": {},
   "outputs": [
    {
     "data": {
      "image/png": "[encoded data removed]",
      "text/plain": [
       "<Figure size 432x576 with 1 Axes>"
      ]
     },
     "metadata": {},
     "output_type": "display_data"
    }
   ],
   "source": [
    "plot_data = urls.groupby('url').agg('sum').sort_values(by='total_frequency', ascending=False).head(15)\n",
    "\n",
    "f, ax = plt.subplots(figsize=(6, 8))\n",
    "sns.set_color_codes(\"pastel\")\n",
    "sns.barplot(x=\"frequency_on_disasters\", y=plot_data.index, data=plot_data, label=\"Desastres\", color=\"b\")\n",
    "\n",
    "sns.set_color_codes(\"muted\")\n",
    "sns.barplot(x=\"total_frequency\", y=plot_data.index, data=plot_data, label=\"Total\", color=\"b\")\n",
    "\n",
    "ax.legend(ncol=2, loc=\"lower right\", frameon=True)\n",
    "ax.set(xlim=(0, 24), ylabel=\"\", xlabel=\"Ocurrencias en tweets\")\n",
    "sns.despine(left=True, bottom=True)"
   ]
  },
  {
   "cell_type": "code",
   "execution_count": 202,
   "metadata": {},
   "outputs": [
    {
     "data": {
      "text/html": [
       "<div>\n",
       "<style scoped>\n",
       "    .dataframe tbody tr th:only-of-type {\n",
       "        vertical-align: middle;\n",
       "    }\n",
       "\n",
       "    .dataframe tbody tr th {\n",
       "        vertical-align: top;\n",
       "    }\n",
       "\n",
       "    .dataframe thead th {\n",
       "        text-align: right;\n",
       "    }\n",
       "</style>\n",
       "<table border=\"1\" class=\"dataframe\">\n",
       "  <thead>\n",
       "    <tr style=\"text-align: right;\">\n",
       "      <th></th>\n",
       "      <th>frequency_on_disasters</th>\n",
       "      <th>frequency_on_non_disasters</th>\n",
       "      <th>total_frequency</th>\n",
       "    </tr>\n",
       "    <tr>\n",
       "      <th>url</th>\n",
       "      <th></th>\n",
       "      <th></th>\n",
       "      <th></th>\n",
       "    </tr>\n",
       "  </thead>\n",
       "  <tbody>\n",
       "    <tr>\n",
       "      <th>http://t.co/qew4c5M1xd</th>\n",
       "      <td>0</td>\n",
       "      <td>9</td>\n",
       "      <td>9</td>\n",
       "    </tr>\n",
       "    <tr>\n",
       "      <th>http://t.co/eNCmhz6y34</th>\n",
       "      <td>1</td>\n",
       "      <td>5</td>\n",
       "      <td>6</td>\n",
       "    </tr>\n",
       "    <tr>\n",
       "      <th>http://t.co/q2eBlOKeVE</th>\n",
       "      <td>1</td>\n",
       "      <td>5</td>\n",
       "      <td>6</td>\n",
       "    </tr>\n",
       "    <tr>\n",
       "      <th>http://t.co/KSAwlYuX02</th>\n",
       "      <td>6</td>\n",
       "      <td>0</td>\n",
       "      <td>6</td>\n",
       "    </tr>\n",
       "    <tr>\n",
       "      <th>http://t.co/vVPLFQv58P</th>\n",
       "      <td>5</td>\n",
       "      <td>0</td>\n",
       "      <td>5</td>\n",
       "    </tr>\n",
       "    <tr>\n",
       "      <th>http://t.co/cybKsXHF7d</th>\n",
       "      <td>3</td>\n",
       "      <td>2</td>\n",
       "      <td>5</td>\n",
       "    </tr>\n",
       "    <tr>\n",
       "      <th>http://t.co/thoYhrHkfJ</th>\n",
       "      <td>0</td>\n",
       "      <td>4</td>\n",
       "      <td>4</td>\n",
       "    </tr>\n",
       "    <tr>\n",
       "      <th>https://t.co/rqWuoy1fm4</th>\n",
       "      <td>4</td>\n",
       "      <td>0</td>\n",
       "      <td>4</td>\n",
       "    </tr>\n",
       "    <tr>\n",
       "      <th>http://t.co/vIwXY1XDYK</th>\n",
       "      <td>4</td>\n",
       "      <td>0</td>\n",
       "      <td>4</td>\n",
       "    </tr>\n",
       "    <tr>\n",
       "      <th>http://t.co/o91f3cYy0R</th>\n",
       "      <td>0</td>\n",
       "      <td>4</td>\n",
       "      <td>4</td>\n",
       "    </tr>\n",
       "    <tr>\n",
       "      <th>http://t.co/LvlH3W3aWO</th>\n",
       "      <td>4</td>\n",
       "      <td>0</td>\n",
       "      <td>4</td>\n",
       "    </tr>\n",
       "    <tr>\n",
       "      <th>http://t.co/WvJ39a3BGM</th>\n",
       "      <td>0</td>\n",
       "      <td>4</td>\n",
       "      <td>4</td>\n",
       "    </tr>\n",
       "    <tr>\n",
       "      <th>https://t.co/moLL5vd8yD</th>\n",
       "      <td>1</td>\n",
       "      <td>3</td>\n",
       "      <td>4</td>\n",
       "    </tr>\n",
       "    <tr>\n",
       "      <th>http://t.co/zujwUiomb3</th>\n",
       "      <td>1</td>\n",
       "      <td>3</td>\n",
       "      <td>4</td>\n",
       "    </tr>\n",
       "    <tr>\n",
       "      <th>http://t.co/nnMQlz91o9</th>\n",
       "      <td>0</td>\n",
       "      <td>4</td>\n",
       "      <td>4</td>\n",
       "    </tr>\n",
       "  </tbody>\n",
       "</table>\n",
       "</div>"
      ],
      "text/plain": [
       "                         frequency_on_disasters  frequency_on_non_disasters  \\\n",
       "url                                                                           \n",
       "http://t.co/qew4c5M1xd   0                       9                            \n",
       "http://t.co/eNCmhz6y34   1                       5                            \n",
       "http://t.co/q2eBlOKeVE   1                       5                            \n",
       "http://t.co/KSAwlYuX02   6                       0                            \n",
       "http://t.co/vVPLFQv58P   5                       0                            \n",
       "http://t.co/cybKsXHF7d   3                       2                            \n",
       "http://t.co/thoYhrHkfJ   0                       4                            \n",
       "https://t.co/rqWuoy1fm4  4                       0                            \n",
       "http://t.co/vIwXY1XDYK   4                       0                            \n",
       "http://t.co/o91f3cYy0R   0                       4                            \n",
       "http://t.co/LvlH3W3aWO   4                       0                            \n",
       "http://t.co/WvJ39a3BGM   0                       4                            \n",
       "https://t.co/moLL5vd8yD  1                       3                            \n",
       "http://t.co/zujwUiomb3   1                       3                            \n",
       "http://t.co/nnMQlz91o9   0                       4                            \n",
       "\n",
       "                         total_frequency  \n",
       "url                                       \n",
       "http://t.co/qew4c5M1xd   9                \n",
       "http://t.co/eNCmhz6y34   6                \n",
       "http://t.co/q2eBlOKeVE   6                \n",
       "http://t.co/KSAwlYuX02   6                \n",
       "http://t.co/vVPLFQv58P   5                \n",
       "http://t.co/cybKsXHF7d   5                \n",
       "http://t.co/thoYhrHkfJ   4                \n",
       "https://t.co/rqWuoy1fm4  4                \n",
       "http://t.co/vIwXY1XDYK   4                \n",
       "http://t.co/o91f3cYy0R   4                \n",
       "http://t.co/LvlH3W3aWO   4                \n",
       "http://t.co/WvJ39a3BGM   4                \n",
       "https://t.co/moLL5vd8yD  4                \n",
       "http://t.co/zujwUiomb3   4                \n",
       "http://t.co/nnMQlz91o9   4                "
      ]
     },
     "execution_count": 202,
     "metadata": {},
     "output_type": "execute_result"
    }
   ],
   "source": [
    "plot_data\n",
    "links_description = {\n",
    "    \"http://t.co/qew4c5M1xd\": \"Preparacion de emergencia ante un tornado\",\n",
    "    \"http://t.co/eNCmhz6y34\": \"Sitio de batalla de fans (Fan Army)\",\n",
    "    \"http://t.co/q2eBlOKeVE\": \"Portal billboard.com\",\n",
    "    \"http://t.co/KSAwlYuX02\": \"Nota sobre una autoinmolacion de un Pakistani de 16 años\",\n",
    "    \"http://t.co/vVPLFQv58P\": \"Busqueda de imagenes en Daum (Google sur-coreano) sobre el Escuadron 731\",\n",
    "    \"http://t.co/cybKsXHF7d\": \"Video de la llegada de un Tsunami a EEUU\",\n",
    "    \"http://t.co/thoYhrHkfJ\": \"Portal billboard.com\",\n",
    "    \"https://t.co/rqWuoy1fm4\": \"Tweet contra Assad por usar bombas contra refugiados Sirios\",\n",
    "    \"http://t.co/vIwXY1XDYK\": \"Sitio que fomenta contra los asesinatos masivos\",\n",
    "    \"http://t.co/o91f3cYy0R\": \"Sitio de batalla de fans (Fan Army)\",\n",
    "    \"http://t.co/LvlH3W3aWO\": \"Articulo sobre el miedo de los parientes de una victima de un asesinato en masa a que se repita otro\",\n",
    "    \"http://t.co/WvJ39a3BGM\": \"Sitio de batalla de fans (Fan Army)\",\n",
    "    \"https://t.co/moLL5vd8yD\": \"Archivo inexistente de Google\",\n",
    "    \"http://t.co/zujwUiomb3\": \"Link a producto de Ebay\",\n",
    "    \"http://t.co/nnMQlz91o9\": \"Portal billboard.com\",\n",
    "}"
   ]
  },
  {
   "cell_type": "code",
   "execution_count": 217,
   "metadata": {},
   "outputs": [
    {
     "data": {
      "text/plain": [
       "0       []                      \n",
       "1       []                      \n",
       "2       []                      \n",
       "3       []                      \n",
       "4       []                      \n",
       "        ..                      \n",
       "7608    [http://t.co/STfMbbZFB5]\n",
       "7609    []                      \n",
       "7610    [http://t.co/zDtoyd8EbJ]\n",
       "7611    []                      \n",
       "7612    [http://t.co/YmY4rSkQ3d]\n",
       "Name: urls, Length: 7613, dtype: object"
      ]
     },
     "execution_count": 217,
     "metadata": {},
     "output_type": "execute_result"
    }
   ],
   "source": [
    "disasters.urls#.filter(lambda x: 'https://t.co/moLL5vd8yD' in x)"
   ]
  },
  {
   "cell_type": "markdown",
   "metadata": {},
   "source": [
    "### Wordclouds"
   ]
  },
  {
   "cell_type": "code",
   "execution_count": null,
   "metadata": {},
   "outputs": [],
   "source": [
    "disaster_mentions = \" \".join(disasters.loc[disasters['target'] == 1, 'mentions'])\n",
    "non_disaster_mentions = \" \".join(disasters.loc[disasters['target'] == 0, 'mentions'])"
   ]
  },
  {
   "cell_type": "code",
   "execution_count": null,
   "metadata": {},
   "outputs": [],
   "source": [
    "#Funciones de ayuda para colorear los wordcloud por clase\n",
    "class SimpleGroupedColorFunc(object):\n",
    "    def __init__(self, color_to_words, default_color):\n",
    "        self.word_to_color = {word: color\n",
    "                              for (color, words) in color_to_words.items()\n",
    "                              for word in words}\n",
    "\n",
    "        self.default_color = default_color\n",
    "\n",
    "    def __call__(self, word, **kwargs):\n",
    "        return self.word_to_color.get(word, self.default_color)\n",
    "\n",
    "\n",
    "class GroupedColorFunc(object):\n",
    "    def __init__(self, color_to_words, default_color):\n",
    "        self.color_func_to_words = [\n",
    "            (get_single_color_func(color), set(words))\n",
    "            for (color, words) in color_to_words.items()]\n",
    "\n",
    "        self.default_color_func = get_single_color_func(default_color)\n",
    "\n",
    "    def get_color_func(self, word):\n",
    "        try:\n",
    "            color_func = next(\n",
    "                color_func for (color_func, words) in self.color_func_to_words\n",
    "                if word in words)\n",
    "        except StopIteration:\n",
    "            color_func = self.default_color_func\n",
    "\n",
    "        return color_func\n",
    "\n",
    "    def __call__(self, word, **kwargs):\n",
    "        return self.get_color_func(word)(word, **kwargs)"
   ]
  },
  {
   "cell_type": "code",
   "execution_count": null,
   "metadata": {},
   "outputs": [],
   "source": [
    "def transform_format(val):\n",
    "    if val == 0:\n",
    "        return 255\n",
    "    else:\n",
    "        return val\n",
    "\n",
    "temp_mask = np.array(Image.open(\"hashtag_mask.png\"))\n",
    "hashtag_mask = np.ndarray((temp_mask.shape[0],temp_mask.shape[1]), np.int32)\n",
    "\n",
    "for i in range(len(temp_mask)):\n",
    "    hashtag_mask[i] = list(map(transform_format, temp_mask[i]))"
   ]
  },
  {
   "cell_type": "code",
   "execution_count": null,
   "metadata": {},
   "outputs": [],
   "source": [
    "hashtags_wc = WordCloud(font_path='BebasNeue-Regular.ttf', mask=hashtag_mask, width=1000, height=500, max_font_size=70, max_words=300, background_color=\"white\").generate(disaster_hashtags + \" \" + non_disaster_hashtags)\n",
    "\n",
    "hashtag_colors = {\n",
    "    '#2D574E': list(map(lambda x: x[1:len(x)], disaster_hashtags.split())),\n",
    "    '#673F59': list(map(lambda x: x[1:len(x)], non_disaster_hashtags.split()))\n",
    "}\n",
    "\n",
    "hashtags_wc.recolor(color_func=GroupedColorFunc(hashtag_colors, 'black'))\n",
    "\n",
    "hashtags_wc.to_file(\"plots/hashtags_wc.png\")\n",
    "\n",
    "plt.imshow(hashtags_wc, interpolation='bilinear')\n",
    "plt.axis(\"off\")\n",
    "plt.show()"
   ]
  },
  {
   "cell_type": "code",
   "execution_count": null,
   "metadata": {},
   "outputs": [],
   "source": [
    "mention_mask = np.array(Image.open(\"twitter_mask.png\"))\n",
    "\n",
    "mentions_wc = WordCloud(font_path='BebasNeue-Regular.ttf', mask=mention_mask, width=1000, height=500, max_font_size=70, max_words=300, background_color=\"white\").generate(disaster_mentions + \" \" + non_disaster_mentions)\n",
    "\n",
    "mention_colors = {\n",
    "    '#2D574E': list(map(lambda x: x[1:len(x)], disaster_mentions.split())),\n",
    "    '#673F59': list(map(lambda x: x[1:len(x)], non_disaster_mentions.split()))\n",
    "}\n",
    "\n",
    "mentions_wc.recolor(color_func=GroupedColorFunc(mention_colors, 'black'))\n",
    "\n",
    "mentions_wc.to_file(\"plots/mentions_wc.png\")\n",
    "\n",
    "plt.imshow(mentions_wc, interpolation='bilinear')\n",
    "plt.axis(\"off\")\n",
    "plt.show()"
   ]
  }
 ],
 "metadata": {
  "kernelspec": {
   "display_name": "Python 3",
   "language": "python",
   "name": "python3"
  },
  "language_info": {
   "codemirror_mode": {
    "name": "ipython",
    "version": 3
   },
   "file_extension": ".py",
   "mimetype": "text/x-python",
   "name": "python",
   "nbconvert_exporter": "python",
   "pygments_lexer": "ipython3",
   "version": "3.7.6"
  }
 },
 "nbformat": 4,
 "nbformat_minor": 4
}
