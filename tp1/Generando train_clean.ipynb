{
 "cells": [
  {
   "cell_type": "code",
   "execution_count": 9,
   "metadata": {},
   "outputs": [],
   "source": [
    "import pandas as pd\n",
    "import numpy as np\n",
    "import json"
   ]
  },
  {
   "cell_type": "code",
   "execution_count": 10,
   "metadata": {},
   "outputs": [],
   "source": [
    "disasters = pd.read_csv('train.csv')"
   ]
  },
  {
   "cell_type": "markdown",
   "metadata": {},
   "source": [
    "## Eliminando duplicados"
   ]
  },
  {
   "cell_type": "code",
   "execution_count": 11,
   "metadata": {},
   "outputs": [],
   "source": [
    "def getMostFrequentValue(x):\n",
    "    return x.value_counts().index[0] if len(x.value_counts()) > 0 else np.NaN\n",
    "\n",
    "#Para todos los tweets tomamos el valor mas frecuente (o NaN si no hay valor) de las columnas keyword y location indexando por texto\n",
    "disasters['clean_keyword'] = disasters.loc[:, ['text', 'keyword']].groupby(['text']).transform(getMostFrequentValue)\n",
    "disasters['clean_location'] = disasters.loc[:, ['text', 'location']].groupby(['text']).transform(getMostFrequentValue)"
   ]
  },
  {
   "cell_type": "code",
   "execution_count": 12,
   "metadata": {},
   "outputs": [],
   "source": [
    "#Agrego la columna target_mean la cual servira para analizar los casos en que un tweet repetido haya sido tagueado de las dos formas posibles\n",
    "disasters['target_mean'] = disasters.loc[:, ['text', 'target']].groupby('text').transform('mean')"
   ]
  },
  {
   "cell_type": "code",
   "execution_count": 13,
   "metadata": {},
   "outputs": [
    {
     "name": "stderr",
     "output_type": "stream",
     "text": [
      "C:\\ProgramData\\Miniconda3\\lib\\site-packages\\ipykernel_launcher.py:1: SettingWithCopyWarning: \n",
      "A value is trying to be set on a copy of a slice from a DataFrame.\n",
      "Try using .loc[row_indexer,col_indexer] = value instead\n",
      "\n",
      "See the caveats in the documentation: https://pandas.pydata.org/pandas-docs/stable/user_guide/indexing.html#returning-a-view-versus-a-copy\n",
      "  \"\"\"Entry point for launching an IPython kernel.\n",
      "C:\\ProgramData\\Miniconda3\\lib\\site-packages\\ipykernel_launcher.py:2: SettingWithCopyWarning: \n",
      "A value is trying to be set on a copy of a slice from a DataFrame.\n",
      "Try using .loc[row_indexer,col_indexer] = value instead\n",
      "\n",
      "See the caveats in the documentation: https://pandas.pydata.org/pandas-docs/stable/user_guide/indexing.html#returning-a-view-versus-a-copy\n",
      "  \n"
     ]
    }
   ],
   "source": [
    "disasters.iloc[[4232, 4235, 4379, 4381]]['target_mean'] = 1\n",
    "disasters.iloc[[610, 624, 630, 634, 1197, 1331, 1214, 1365, 1221, 1349, 4306, 4320, 5321, 5641, 6091, 6094, 6103, 6123, 6614, 6616]]['target_mean'] = 0\n",
    "\n",
    "#1197, 1331 -> cancion The Art Of Parties de Japan: https://www.youtube.com/watch?v=nI3wvK8-D10\n",
    "#1214, 1365 -> Letra de otra cancion. Tweet completo: https://twitter.com/ARCaliber/status/1189236220888567808\n",
    "#1221, 1349 -> nota: https://www.loc.gov/item/2018695363/\n",
    "#4306, 4320 -> Tweet contra el islam\n",
    "#4379, 4381 -> Tweet en referencia al secuestrador Dan Cooper (secuestro un avion en 1971)\n",
    "#5320, 5641 -> Nigerianos refugiados repatriados de Camerun\n",
    "#6091, 6094, 6103, 6123 -> Traduciendo se explica\n",
    "#6614, 6616 -> Tweet comparando el islam con el terrorismo"
   ]
  },
  {
   "cell_type": "code",
   "execution_count": 14,
   "metadata": {},
   "outputs": [],
   "source": [
    "#Aquellos tweets repetidos que tengan un target_mean menor a 0.5 los consideraremos con target 0 (no desastres)\n",
    "disasters.loc[disasters['target_mean'] < 0.5, ['target']] = 0\n",
    "\n",
    "#Aquellos tweets repetidos que tengan un target_mean mayor a 0.5 los consideraremos con target 1 (desastres)\n",
    "disasters.loc[disasters['target_mean'] > 0.5, ['target']] = 1"
   ]
  },
  {
   "cell_type": "code",
   "execution_count": 15,
   "metadata": {},
   "outputs": [],
   "source": [
    "disasters['keyword'] = disasters['clean_keyword']\n",
    "disasters['location'] = disasters['clean_location']"
   ]
  },
  {
   "cell_type": "code",
   "execution_count": 16,
   "metadata": {},
   "outputs": [],
   "source": [
    "disasters.drop_duplicates(subset='text', keep='last', inplace=True)\n",
    "disasters.loc[:, ['id', 'keyword', 'location', 'text', 'target']].to_csv('clean_train.csv', index=False)"
   ]
  },
  {
   "cell_type": "markdown",
   "metadata": {},
   "source": [
    "## Generando las clean locations y agregandolas al clean_train"
   ]
  },
  {
   "cell_type": "code",
   "execution_count": null,
   "metadata": {},
   "outputs": [],
   "source": [
    "import requests\n",
    "import json"
   ]
  },
  {
   "cell_type": "code",
   "execution_count": null,
   "metadata": {},
   "outputs": [],
   "source": [
    "locs = disasters['location'].value_counts().reset_index()\n",
    "locs.loc[locs['location'] > 1].sort_values(by='location', ascending=False).head(100)\n",
    "locs.columns = ['location', 'qty']\n",
    "locs['clean_location'] = 'undefined'"
   ]
  },
  {
   "cell_type": "code",
   "execution_count": null,
   "metadata": {},
   "outputs": [],
   "source": [
    "#import requests\n",
    "#locs['google_response'] = locs['location'].apply(lambda l: requests.get('https://maps.googleapis.com/maps/api/geocode/json?address=' + l + '&key=APIKEY').text)"
   ]
  },
  {
   "cell_type": "code",
   "execution_count": null,
   "metadata": {},
   "outputs": [],
   "source": [
    "def findCountry(address_components):\n",
    "    for comp in address_components:\n",
    "        if (len(comp['types']) > 0 and comp['types'][0] == 'country'):\n",
    "            return comp['long_name']\n",
    "        \n",
    "        if (len(comp['types']) > 0 and comp['types'][0] == 'establishment'):\n",
    "            return comp['long_name']\n",
    "        \n",
    "    return \"undefined\"\n",
    "\n",
    "def findCity(address_components):\n",
    "    for comp in address_components:\n",
    "        if (len(comp['types']) > 0 and comp['types'][0] == 'locality'):\n",
    "            return comp['long_name']\n",
    "    \n",
    "    return \"undefined\"\n",
    "\n",
    "def findLat(geometry):\n",
    "    return geometry['location']['lat']\n",
    "\n",
    "def findLon(geometry):\n",
    "    return geometry['location']['lng']\n",
    "\n",
    "class JSONObject(object):\n",
    "    def __init__(self, data):\n",
    "        self.__dict__ = json.loads(data)"
   ]
  },
  {
   "cell_type": "code",
   "execution_count": null,
   "metadata": {},
   "outputs": [],
   "source": [
    "def parseAndFindCity(x):\n",
    "    jObject = JSONObject(x)\n",
    "    if (len(jObject.results) > 0):\n",
    "        return findCity(jObject.results[0]['address_components'])\n",
    "    \n",
    "    return \"undefined\"\n",
    "\n",
    "def parseAndFindCountry(x):\n",
    "    jObject = JSONObject(x)\n",
    "    if (len(jObject.results) > 0):\n",
    "        return findCountry(jObject.results[0]['address_components'])\n",
    "    \n",
    "    return \"undefined\"\n",
    "\n",
    "def parseAndFindLat(x):\n",
    "    jObject = JSONObject(x)\n",
    "    if (len(jObject.results) > 0):\n",
    "        return findLat(jObject.results[0]['geometry'])\n",
    "    \n",
    "    return np.NaN\n",
    "\n",
    "def parseAndFindLon(x):\n",
    "    jObject = JSONObject(x)\n",
    "    if (len(jObject.results) > 0):\n",
    "        return findLon(jObject.results[0]['geometry'])\n",
    "    \n",
    "    return np.NaN\n",
    "\n",
    "locs['clean_country'] = locs['google_response'].apply(parseAndFindCountry)\n",
    "locs['clean_city'] = locs['google_response'].apply(parseAndFindCity)\n",
    "locs['lat'] = locs['google_response'].apply(parseAndFindLat)\n",
    "locs['lon'] = locs['google_response'].apply(parseAndFindLon)"
   ]
  },
  {
   "cell_type": "code",
   "execution_count": null,
   "metadata": {},
   "outputs": [],
   "source": [
    "locs.loc[:, ['location', 'google_response', 'clean_country', 'clean_city']].to_csv('clean_locations.csv', index=False)"
   ]
  },
  {
   "cell_type": "code",
   "execution_count": 17,
   "metadata": {},
   "outputs": [],
   "source": [
    "locs = pd.read_csv('clean_locations.csv')\n",
    "merged = disasters.merge(locs.loc[:, ['location', 'clean_country', 'clean_city', 'lat', 'lon']], how='left', on='location')\n",
    "merged[['clean_country', 'clean_city']] = merged[['clean_country', 'clean_city']].fillna(value='undefined')\n",
    "merged.to_csv('clean_train.csv', index=False)"
   ]
  }
 ],
 "metadata": {
  "kernelspec": {
   "display_name": "Python 3",
   "language": "python",
   "name": "python3"
  },
  "language_info": {
   "codemirror_mode": {
    "name": "ipython",
    "version": 3
   },
   "file_extension": ".py",
   "mimetype": "text/x-python",
   "name": "python",
   "nbconvert_exporter": "python",
   "pygments_lexer": "ipython3",
   "version": "3.7.6"
  }
 },
 "nbformat": 4,
 "nbformat_minor": 4
}
